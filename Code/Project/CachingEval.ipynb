{
 "cells": [
  {
   "cell_type": "markdown",
   "id": "27573995",
   "metadata": {},
   "source": [
    "\n",
    "# Simulazione di politiche di similarity caching"
   ]
  },
  {
   "cell_type": "code",
   "execution_count": 12,
   "id": "0213b18b",
   "metadata": {},
   "outputs": [],
   "source": [
    "import faiss\n",
    "import numpy as np\n",
    "import matplotlib.pyplot as plt\n",
    "from typing import List, Tuple\n",
    "from CachePolicy import LRUCache, LFUCache, TTLCache, RNDLRUCache, RNDTTLCache"
   ]
  },
  {
   "cell_type": "code",
   "execution_count": 5,
   "id": "1f363d63",
   "metadata": {},
   "outputs": [
    {
     "name": "stdout",
     "output_type": "stream",
     "text": [
      "Colonne disponibili: ['prompt', 'clip_emb', 'user_name', 'timestamp']\n"
     ]
    }
   ],
   "source": [
    "from PromptDatasetManager import PromptDatasetManager\n",
    "manager = PromptDatasetManager()\n",
    "\n",
    "manager.load_local_metadata(\n",
    "    path=\"/Users/tella/Workspace/Inria/Data/normalized_embeddings.parquet\",\n",
    "    max_rows=100 # Limita per testare velocemente\n",
    ")\n",
    "print(f\"Colonne disponibili: {list(manager.df.columns)}\")"
   ]
  },
  {
   "cell_type": "markdown",
   "id": "061d42b0",
   "metadata": {},
   "source": [
    "## Cache similarity con politiche di eviction\n",
    "\n",
    "LRU (Least Recently Used) e LFU (Least Frequently Used) e TTL (Time To Live) per la gestione della cache."
   ]
  },
  {
   "cell_type": "code",
   "execution_count": 6,
   "id": "5c60624d",
   "metadata": {},
   "outputs": [
    {
     "data": {
      "image/png": "[encoded data removed]",
      "text/plain": [
       "<Figure size 1000x500 with 1 Axes>"
      ]
     },
     "metadata": {},
     "output_type": "display_data"
    }
   ],
   "source": [
    "\n",
    "def compute_reuse_dist(requests: List[str]) -> List[int]:\n",
    "    last = {}\n",
    "    deltas = []\n",
    "    for i, p in enumerate(requests):\n",
    "        if p in last:\n",
    "            deltas.append(i - last[p])\n",
    "        last[p] = i\n",
    "    return deltas\n",
    "\n",
    "seq_requests = manager.sample_prompts(num_prompts=None, random_order=False)\n",
    "rand_requests = manager.sample_prompts(num_prompts=None, random_order=True)\n",
    "\n",
    "reuse_seq = compute_reuse_dist([p for p,_ in seq_requests])\n",
    "reuse_rand = compute_reuse_dist([p for p,_ in rand_requests])\n",
    "\n",
    "# Plot histogram of reuse distances (log scale)\n",
    "plt.figure(figsize=(10, 5))\n",
    "plt.hist(reuse_seq, bins=30, alpha=0.5, label='Sequential Requests', log=True)\n",
    "plt.hist(reuse_rand, bins=30, alpha=0.5, label='Random Requests', log=True)\n",
    "plt.title('Histogram of Reuse Distances')\n",
    "plt.xlabel('Reuse Distance')\n",
    "plt.ylabel('Frequency')\n",
    "plt.legend()\n",
    "plt.show()\n"
   ]
  },
  {
   "cell_type": "code",
   "execution_count": 7,
   "id": "68338651",
   "metadata": {},
   "outputs": [
    {
     "data": {
      "application/vnd.jupyter.widget-view+json": {
       "model_id": "e978b9cf3c5d49d29e1c4139c3c5f3d5",
       "version_major": 2,
       "version_minor": 0
      },
      "text/plain": [
       "BokehModel(combine_events=True, render_bundle={'docs_json': {'925ea062-2493-4cfd-abaa-5edcda1908c4': {'version…"
      ]
     },
     "execution_count": 7,
     "metadata": {},
     "output_type": "execute_result"
    }
   ],
   "source": [
    "import Dashboard as ds\n",
    "\n",
    "dim = manager.emb_matrix.shape[1]\n",
    "dashboard = ds.get_dashboard(manager, [LRUCache, LFUCache, TTLCache, RNDLRUCache, RNDTTLCache], num_requests=5000, dim=dim)\n",
    "dashboard.servable()"
   ]
  },
  {
   "cell_type": "markdown",
   "id": "dcc03051",
   "metadata": {},
   "source": [
    "### Chaching test"
   ]
  },
  {
   "cell_type": "code",
   "execution_count": null,
   "id": "962cd913",
   "metadata": {},
   "outputs": [],
   "source": [
    "\n"
   ]
  },
  {
   "cell_type": "code",
   "execution_count": 13,
   "id": "728ab5f6",
   "metadata": {},
   "outputs": [
    {
     "name": "stdout",
     "output_type": "stream",
     "text": [
      "Prompt: concept art of a silent hill monster. painted by edward hopper. \n",
      "Top-10 Similarities:\n",
      "1: concept art of a silent hill monster. painted by edward hopper.  (Similarity: 1.0000)\n",
      "2: concept art of a silent hill monster. painted by edward hopper.  (Similarity: 1.0000)\n",
      "3: concept art of a silent hill monster. painted by edward hopper.  (Similarity: 1.0000)\n",
      "4: a painting by edward hopper of psychedelic creatures that seem to communicate with the viewer  (Similarity: 0.7184)\n",
      "5: a painting by edward hopper of a scene similar to the room  (Similarity: 0.6965)\n",
      "6: a painting by edward hopper of scenes from the mad max movie universe.  (Similarity: 0.6883)\n",
      "7: a painting by edward hopper of a bird with a staff  (Similarity: 0.6556)\n",
      "8: a painting by edward hopper of the angel of death in new york city  (Similarity: 0.6311)\n",
      "9: a painting by edward hopper of a woman in the streets of an apocalyptic city, surrounded by the darkness.  (Similarity: 0.6284)\n",
      "10: a painting by edward hopper of a man in a trenchcoat carrying an axe  (Similarity: 0.6014)\n",
      "Total prompts in index: 100\n"
     ]
    }
   ],
   "source": [
    "def faiss_search_similarity(\n",
    "    index: faiss.IndexFlatIP,\n",
    "    query: np.ndarray,\n",
    "    topk: int = 10\n",
    ") -> Tuple[np.ndarray, np.ndarray]:\n",
    "    \"\"\"\n",
    "    Esegue una ricerca di similarità usando FAISS.\n",
    "    Ritorna le distanze e gli indici dei top-k risultati.\n",
    "    La ricerca la fa su tutto il dataset indicizzato.\n",
    "    - index: istanza di faiss.IndexFlatIP indicizzata\n",
    "    - query: vettore di query (1D o 2D con una riga)\n",
    "    - topk: numero di risultati da restituire\n",
    "    \"\"\"\n",
    "    query = query.reshape(1, -1).astype(np.float32)\n",
    "    distances, indices = index.search(query, topk)\n",
    "    return distances[0], indices[0]\n",
    "\n",
    "# Create FAISS index from the embedding matrix\n",
    "dim = manager.emb_matrix.shape[1]\n",
    "index = faiss.IndexFlatIP(dim)\n",
    "index.add(manager.emb_matrix.astype(np.float32))\n",
    "\n",
    "# Stampa le prime 10 similarità per un prompt casuale\n",
    "prompt, emb = manager.sample_prompts(num_prompts=1, random_order=True)[0]\n",
    "print(f\"Prompt: {prompt}\")\n",
    "distances, indices = faiss_search_similarity(index, emb, topk=10)\n",
    "print(\"Top-10 Similarities:\")\n",
    "for i, (dist, idx) in enumerate(zip(distances, indices)):\n",
    "    if idx == -1:  # -1 indica che non ci sono risultati\n",
    "        continue\n",
    "    print(f\"{i+1}: {manager.prompts_arr[idx]} (Similarity: {dist:.4f})\")\n",
    "print(\"Total prompts in index:\", len(manager.prompts_arr))\n"
   ]
  }
 ],
 "metadata": {
  "kernelspec": {
   "display_name": ".venv",
   "language": "python",
   "name": "python3"
  },
  "language_info": {
   "codemirror_mode": {
    "name": "ipython",
    "version": 3
   },
   "file_extension": ".py",
   "mimetype": "text/x-python",
   "name": "python",
   "nbconvert_exporter": "python",
   "pygments_lexer": "ipython3",
   "version": "3.13.5"
  }
 },
 "nbformat": 4,
 "nbformat_minor": 5
}
