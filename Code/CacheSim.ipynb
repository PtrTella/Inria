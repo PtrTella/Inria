{
 "cells": [
  {
   "cell_type": "markdown",
   "id": "c921a772",
   "metadata": {},
   "source": [
    "\n",
    "# Simulazione di caching basato su similarità di prompt (CLIP) con due politiche di eviction: LRU e LFU\n",
    "\n",
    "## Prerequisiti:\n",
    "  pip install huggingface_hub pandas transformers torch torchvision\n",
    "Su macOS con MPS, installa torch con:\n",
    "   pip install torch torchvision torchaudio --extra-index-url https://download.pytorch.org/whl/mps\n"
   ]
  },
  {
   "cell_type": "code",
   "execution_count": 18,
   "id": "4ea5b763",
   "metadata": {},
   "outputs": [],
   "source": [
    "\n",
    "import random\n",
    "import pandas as pd\n",
    "import torch\n",
    "from huggingface_hub import hf_hub_download\n",
    "from collections import OrderedDict, defaultdict\n",
    "from transformers import CLIPTokenizer, CLIPModel\n"
   ]
  },
  {
   "cell_type": "markdown",
   "id": "21dd50e1",
   "metadata": {},
   "source": [
    "\n",
    "# 1) Setup device (MPS su Mac, altrimenti CPU)\n"
   ]
  },
  {
   "cell_type": "code",
   "execution_count": 19,
   "id": "9d7ecf4d",
   "metadata": {},
   "outputs": [
    {
     "name": "stdout",
     "output_type": "stream",
     "text": [
      "Using Apple MPS device\n"
     ]
    }
   ],
   "source": [
    "if torch.backends.mps.is_available():\n",
    "    device = torch.device(\"mps\")\n",
    "    print(\"Using Apple MPS device\")\n",
    "elif torch.cuda.is_available():\n",
    "    device = torch.device(\"cuda\")\n",
    "    print(f\"Using CUDA device: {torch.cuda.get_device_name(device)}\")\n",
    "else:\n",
    "    device = torch.device(\"cpu\")\n",
    "    print(\"Using CPU device\")"
   ]
  },
  {
   "cell_type": "markdown",
   "id": "c6eda752",
   "metadata": {},
   "source": [
    "# 2) Setup CLIP per embedding testuale"
   ]
  },
  {
   "cell_type": "code",
   "execution_count": 20,
   "id": "5cfb5ffb",
   "metadata": {},
   "outputs": [],
   "source": [
    "clip_model_name = \"openai/clip-vit-base-patch32\"\n",
    "tokenizer = CLIPTokenizer.from_pretrained(clip_model_name)\n",
    "model = CLIPModel.from_pretrained(clip_model_name).to(device)\n",
    "model.eval()\n",
    "\n",
    "def embed_prompt(prompt: str) -> torch.Tensor:\n",
    "    \"\"\"\n",
    "    Ritorna embedding L2-normalizzato del prompt.\n",
    "    \"\"\"\n",
    "    inputs = tokenizer(prompt, return_tensors=\"pt\", padding=True, truncation=True).to(device)\n",
    "    with torch.no_grad():\n",
    "        emb = model.get_text_features(**inputs)\n",
    "    return emb / emb.norm(p=2, dim=-1, keepdim=True)"
   ]
  },
  {
   "cell_type": "markdown",
   "id": "41c691ad",
   "metadata": {},
   "source": [
    "# 3) Cache similarity con politiche di eviction\n",
    "\n",
    "LRU (Least Recently Used) e LFU (Least Frequently Used)"
   ]
  },
  {
   "cell_type": "code",
   "execution_count": 39,
   "id": "d19a0ff4",
   "metadata": {},
   "outputs": [],
   "source": [
    "class SimilarityLRUCache:\n",
    "    \"\"\"Cache similarity + eviction LRU\"\"\"\n",
    "    def __init__(self, capacity: int, threshold: float):\n",
    "        self.capacity = capacity\n",
    "        self.threshold = threshold\n",
    "        # ordered dict: prompt -> (embedding)\n",
    "        self.cache = OrderedDict()\n",
    "\n",
    "    def query(self, prompt: str) -> bool:\n",
    "        \"\"\"\n",
    "        Se esiste un item in cache con sim >= threshold -> hit, aggiorna MRU.\n",
    "        Altrimenti -> miss.\n",
    "        \"\"\"\n",
    "        q_emb = embed_prompt(prompt)\n",
    "        best_key, best_sim = None, -1.0\n",
    "        # cerca best match\n",
    "        for key, emb in self.cache.items():\n",
    "            sim = float((emb @ q_emb.T).item())\n",
    "            if sim > best_sim:\n",
    "                best_key, best_sim = key, sim\n",
    "        if best_sim >= self.threshold:\n",
    "            # hit: aggiorna ordine\n",
    "            self.cache.move_to_end(best_key)\n",
    "            return True\n",
    "        # miss\n",
    "        self._add(prompt, q_emb)\n",
    "        return False\n",
    "\n",
    "    def _add(self, prompt: str, emb: torch.Tensor):\n",
    "        if len(self.cache) >= self.capacity:\n",
    "            # rimuovi LRU\n",
    "            self.cache.popitem(last=False)\n",
    "        self.cache[prompt] = emb\n",
    "\n",
    "class SimilarityLFUCache:\n",
    "    \"\"\"Cache similarity + eviction LFU\"\"\"\n",
    "    def __init__(self, capacity: int, threshold: float):\n",
    "        self.capacity = capacity\n",
    "        self.threshold = threshold\n",
    "        # store prompt -> embedding, and freq count\n",
    "        self.cache = {}\n",
    "        self.freq = defaultdict(int)\n",
    "\n",
    "    def query(self, prompt: str) -> bool:\n",
    "        q_emb = embed_prompt(prompt)\n",
    "        best_key, best_sim = None, -1.0\n",
    "        for key, emb in self.cache.items():\n",
    "            sim = float((emb @ q_emb.T).item())\n",
    "            if sim > best_sim:\n",
    "                best_key, best_sim = key, sim\n",
    "        if best_sim >= self.threshold:\n",
    "            # hit: incrementa freq\n",
    "            self.freq[best_key] += 1\n",
    "            return True\n",
    "        # miss\n",
    "        self._add(prompt, q_emb)\n",
    "        return False\n",
    "\n",
    "    def _add(self, prompt: str, emb: torch.Tensor):\n",
    "        if len(self.cache) >= self.capacity:\n",
    "            # rimuovi LFU\n",
    "            min_freq = min(self.freq.values())\n",
    "            # trova una chiave con freq minima\n",
    "            for key, f in list(self.freq.items()):\n",
    "                if f == min_freq:\n",
    "                    del self.cache[key]\n",
    "                    del self.freq[key]\n",
    "                    break\n",
    "        self.cache[prompt] = emb\n",
    "        self.freq[prompt] = 1"
   ]
  },
  {
   "cell_type": "code",
   "execution_count": null,
   "id": "bdeaf14c",
   "metadata": {},
   "outputs": [],
   "source": []
  },
  {
   "cell_type": "code",
   "execution_count": null,
   "id": "dc0db1e6",
   "metadata": {},
   "outputs": [],
   "source": []
  },
  {
   "cell_type": "code",
   "execution_count": null,
   "id": "01c1ea2c",
   "metadata": {},
   "outputs": [],
   "source": []
  },
  {
   "cell_type": "markdown",
   "id": "345e68e0",
   "metadata": {},
   "source": [
    "# Management of Prompt Dataset"
   ]
  },
  {
   "cell_type": "code",
   "execution_count": 71,
   "id": "6f96e56a",
   "metadata": {},
   "outputs": [
    {
     "name": "stdout",
     "output_type": "stream",
     "text": [
      "Scaricamento metadata.parquet...\n",
      "Colonne disponibili: ['image_name', 'prompt', 'part_id', 'seed', 'step', 'cfg', 'sampler', 'width', 'height', 'user_name', 'timestamp', 'image_nsfw', 'prompt_nsfw']\n",
      "\n"
     ]
    }
   ],
   "source": [
    "class PromptDatasetManager:\n",
    "    def __init__(self, repo_id=\"poloclub/diffusiondb\", filename=\"metadata.parquet\", max_size=None):\n",
    "        print(\"Scaricamento metadata.parquet...\")\n",
    "        self.meta_path = hf_hub_download(\n",
    "            repo_id=repo_id, repo_type=\"dataset\", filename=filename\n",
    "        )\n",
    "        if max_size:\n",
    "            self.df = pd.read_parquet(self.meta_path).head(max_size)\n",
    "        else:\n",
    "            self.df = pd.read_parquet(self.meta_path)\n",
    "        print(f\"Colonne disponibili: {list(self.df.columns)}\\n\")\n",
    "\n",
    "    def getRandomPrompt(self):\n",
    "        \"\"\"\n",
    "        Restituisce una funzione lambda che, ad ogni chiamata,\n",
    "        restituisce un nuovo prompt casuale dal database.\n",
    "        \"\"\"\n",
    "        prompts = self.df['prompt'].dropna().tolist()\n",
    "        return lambda: random.choice(prompts)\n",
    "\n",
    "    def  getDataFrame(self):\n",
    "        \"\"\"\n",
    "        Restituisce il DataFrame completo.\n",
    "        Se il DataFrame è molto grande, considera di usare `head()` per limitare le righe.\n",
    "        \"\"\"\n",
    "        return self.df\n",
    "    \n",
    "    \n",
    "    def getRandomUserSession(self, session_gap: int = 30, max_prompts: int = 100):\n",
    "        \"\"\"\n",
    "        Restituisce una funzione che genera sessioni di un utente casuale.\n",
    "\n",
    "        Ogni sessione contiene un numero casuale di prompt (fino a `max_prompts`),\n",
    "        con un intervallo di tempo casuale tra i prompt (fino a `session_gap` minuti).\n",
    "        \"\"\"\n",
    "        users = self.df['user_name'].dropna().unique()\n",
    "        if len(users) == 0:\n",
    "            raise ValueError(\"Nessun utente trovato nel DataFrame.\")\n",
    "        \n",
    "        def generate_session():\n",
    "            user = random.choice(users)\n",
    "            df_user = self._get_user_sessions(user, session_gap)\n",
    "            num_prompts = random.randint(1, max_prompts)\n",
    "            session_df = df_user.sample(n=num_prompts, replace=True)\n",
    "            return user, session_df\n",
    "        \n",
    "        return generate_session\n",
    "\n",
    "    def _get_user_sessions(self,\n",
    "                          user_name: str,\n",
    "                          session_gap: int = 30) -> pd.DataFrame:\n",
    "        \"\"\"\n",
    "        Estrae dal DataFrame tutte le righe di un dato `user_name`, ordina per timestamp\n",
    "        e assegna un `session_id` incrementale ogni volta che l'intervallo tra richieste\n",
    "        successive supera `session_gap` minuti.\n",
    "        Restituisce un DataFrame con colonne originali + 'session_delta' + 'session_id'.\n",
    "        \"\"\"\n",
    "        if 'user_name' not in self.df.columns or 'timestamp' not in self.df.columns:\n",
    "            raise ValueError(\"Le colonne 'user_name' e/o 'timestamp' non sono presenti.\")\n",
    "        df_user = self.df[self.df['user_name'] == user_name].copy()\n",
    "        if df_user.empty:\n",
    "            raise ValueError(f\"Nessun dato per l'utente {user_name}\")\n",
    "        df_user = df_user.sort_values('timestamp').reset_index(drop=True)\n",
    "        # Calcola delta in minuti\n",
    "        df_user['session_delta'] = df_user['timestamp'].diff().dt.total_seconds() / 60.0\n",
    "        # Assegna session_id\n",
    "        session_ids = []\n",
    "        current_id = 0\n",
    "        for delta in df_user['session_delta']:\n",
    "            if pd.isna(delta) or delta > session_gap:\n",
    "                current_id += 1\n",
    "            session_ids.append(current_id)\n",
    "        df_user['session_id'] = session_ids\n",
    "        return df_user\n",
    "\n",
    "manager = PromptDatasetManager(max_size=200)\n",
    "\n",
    "    "
   ]
  },
  {
   "cell_type": "code",
   "execution_count": 72,
   "id": "45acf9a2",
   "metadata": {},
   "outputs": [
    {
     "name": "stdout",
     "output_type": "stream",
     "text": [
      "                                 image_name  \\\n",
      "0  2217ccbd-a1c6-47ac-9a2d-79649727c834.png   \n",
      "1  c78807b7-d55a-4a2d-a6b6-9192b18941ad.png   \n",
      "2  dc71658a-5e4b-4dca-861a-e1535510348b.png   \n",
      "3  48eb7e17-a3cf-4eb8-96a9-d8e3e23fa1af.png   \n",
      "4  601d9792-eccd-4850-97a7-edbe91d3464c.png   \n",
      "\n",
      "                                              prompt  part_id        seed  \\\n",
      "0  a portrait of a female robot made from code, v...        1  2615452544   \n",
      "1  a portrait of a female robot made from a cloud...        1  4231506957   \n",
      "2      only memories remain, trending on artstation         1   544607824   \n",
      "3                   dream swimming pool with nobody         1  3500509234   \n",
      "4           a dog doing weights. epic oil painting.         1  1312381211   \n",
      "\n",
      "   step   cfg  sampler  width  height  \\\n",
      "0    50   7.0        8    512     512   \n",
      "1    50   7.0        8    512     512   \n",
      "2    50   7.0        8    512     512   \n",
      "3    50   7.0        8    512     512   \n",
      "4    50  12.0        8    512     768   \n",
      "\n",
      "                                           user_name  \\\n",
      "0  0167cc490c3dc6047be855b096a9b9d8f20e2b034532bd...   \n",
      "1  0167cc490c3dc6047be855b096a9b9d8f20e2b034532bd...   \n",
      "2  0167cc490c3dc6047be855b096a9b9d8f20e2b034532bd...   \n",
      "3  019084defdd44d2dfcd200bf7aaae53034263168e10d6b...   \n",
      "4  03cb377ebf364ea2761b5710625974c0d2d25285fec982...   \n",
      "\n",
      "                  timestamp  image_nsfw  prompt_nsfw  \n",
      "0 2022-08-20 11:56:00+00:00    0.554853     0.001621  \n",
      "1 2022-08-20 11:59:00+00:00    0.153645     0.000707  \n",
      "2 2022-08-20 12:02:00+00:00    0.062496     0.000425  \n",
      "3 2022-08-20 07:22:00+00:00    0.030799     0.003586  \n",
      "4 2022-08-20 12:28:00+00:00    0.181035     0.030822  \n"
     ]
    }
   ],
   "source": [
    "\n",
    "print(manager.getDataFrame().head())\n"
   ]
  },
  {
   "cell_type": "markdown",
   "id": "b1676e8f",
   "metadata": {},
   "source": [
    "# 4) Simulazione generale"
   ]
  },
  {
   "cell_type": "code",
   "execution_count": 73,
   "id": "282bc00b",
   "metadata": {},
   "outputs": [],
   "source": [
    "from tqdm import trange\n",
    "\n",
    "def simulate_similarity_cache(prompts, cache_obj, num_requests: int) -> float:\n",
    "    hits = 0\n",
    "    for _ in trange(num_requests, desc=\"Simulating requests\"):\n",
    "        p = random.choice(prompts)\n",
    "        if cache_obj.query(p):\n",
    "            hits += 1\n",
    "    return hits / num_requests\n"
   ]
  },
  {
   "cell_type": "code",
   "execution_count": 75,
   "id": "7c29b11f",
   "metadata": {},
   "outputs": [
    {
     "name": "stdout",
     "output_type": "stream",
     "text": [
      "Scaricamento metadata.parquet...\n",
      "Colonne disponibili: ['image_name', 'prompt', 'part_id', 'seed', 'step', 'cfg', 'sampler', 'width', 'height', 'user_name', 'timestamp', 'image_nsfw', 'prompt_nsfw']\n",
      "\n",
      "Risultati:\n",
      "- Similarity-LRU hit rate: 33.00%\n",
      "- Similarity-LFU hit rate: 35.00%\n"
     ]
    }
   ],
   "source": [
    "random.seed(42)\n",
    "# configurazione\n",
    "MAX_PROMPTS = 50      # prompt unici\n",
    "NUM_REQUESTS = 200    # richieste\n",
    "CACHE_SIZE = 10        # capacità cache\n",
    "SIM_THRESHOLD = 0.8    # soglia cosine\n",
    "\n",
    "\n",
    "\n",
    "# istanzia il manager e ottieni la funzione lambda per prompt casuali\n",
    "dataset_manager = PromptDatasetManager(max_size=MAX_PROMPTS)\n",
    "prompt_fn = dataset_manager.getRandomPrompt()\n",
    "\n",
    "# istanzia due politiche\n",
    "caches = {\n",
    "    \"Similarity-LRU\": SimilarityLRUCache(CACHE_SIZE, SIM_THRESHOLD),\n",
    "    \"Similarity-LFU\": SimilarityLFUCache(CACHE_SIZE, SIM_THRESHOLD)\n",
    "}\n",
    "\n",
    "# esegui simulazione usando la funzione lambda\n",
    "print(\"Risultati:\")\n",
    "for name, cache in caches.items():\n",
    "    hits = 0\n",
    "    for _ in range(NUM_REQUESTS):\n",
    "        p = prompt_fn()\n",
    "        if cache.query(p):\n",
    "            hits += 1\n",
    "    rate = hits / NUM_REQUESTS\n",
    "    print(f\"- {name} hit rate: {rate:.2%}\")"
   ]
  },
  {
   "cell_type": "code",
   "execution_count": 77,
   "id": "82d7968a",
   "metadata": {},
   "outputs": [
    {
     "name": "stderr",
     "output_type": "stream",
     "text": [
      "/var/folders/xc/7hdkthds19g1p1r2m6m9pnxm0000gn/T/ipykernel_9538/3847975930.py:31: MatplotlibDeprecationWarning: The 'labels' parameter of boxplot() has been renamed 'tick_labels' since Matplotlib 3.9; support for the old name will be dropped in 3.11.\n",
      "  plt.boxplot([INTRA_SIMS, EXTRA_SIMS], labels=['Intra-session', 'Extra-session'])\n"
     ]
    },
    {
     "data": {
      "image/png": "[encoded data removed]",
      "text/plain": [
       "<Figure size 640x480 with 1 Axes>"
      ]
     },
     "metadata": {},
     "output_type": "display_data"
    }
   ],
   "source": [
    "import matplotlib.pyplot as plt\n",
    "\n",
    "NUM_SESSIONS = 50\n",
    "SESSION_GAP = 30\n",
    "INTRA_SIMS = []\n",
    "EXTRA_SIMS = []\n",
    "\n",
    "# Genera sessioni e calcola similarità intra-sessione\n",
    "for _ in range(NUM_SESSIONS):\n",
    "    user, session_df = manager.getRandomUserSession(session_gap=SESSION_GAP, max_prompts=20)()\n",
    "    prompts = session_df['prompt'].tolist()\n",
    "    if len(prompts) < 2:\n",
    "        continue\n",
    "    embeddings = torch.cat([embed_prompt(p) for p in prompts], dim=0)\n",
    "    sims = []\n",
    "    for i in range(1, len(embeddings)):\n",
    "        sim = float((embeddings[i] @ embeddings[i-1].T).item())\n",
    "        sims.append(sim)\n",
    "    if sims:\n",
    "        INTRA_SIMS.append(np.mean(sims))\n",
    "\n",
    "# Calcola similarità extra-sessione (prompt casuali di utenti diversi)\n",
    "all_prompts = manager.getDataFrame()['prompt'].dropna().sample(NUM_SESSIONS * 2).tolist()\n",
    "for i in range(0, len(all_prompts), 2):\n",
    "    emb1 = embed_prompt(all_prompts[i])\n",
    "    emb2 = embed_prompt(all_prompts[i+1])\n",
    "    sim = float((emb1 @ emb2.T).item())\n",
    "    EXTRA_SIMS.append(sim)\n",
    "\n",
    "# Boxplot confronto\n",
    "plt.boxplot([INTRA_SIMS, EXTRA_SIMS], labels=['Intra-session', 'Extra-session'])\n",
    "plt.ylabel(\"Similarità media CLIP (cosine)\")\n",
    "plt.title(\"Confronto similarità prompt: dentro vs fuori sessione\")\n",
    "plt.show()"
   ]
  },
  {
   "cell_type": "code",
   "execution_count": 78,
   "id": "679f6b2a",
   "metadata": {},
   "outputs": [
    {
     "data": {
      "image/png": "[encoded data removed]",
      "text/plain": [
       "<Figure size 640x480 with 1 Axes>"
      ]
     },
     "metadata": {},
     "output_type": "display_data"
    }
   ],
   "source": [
    "import numpy as np\n",
    "\n",
    "import matplotlib.pyplot as plt\n",
    "\n",
    "session_gaps = [5, 10, 20, 30, 60, 120]\n",
    "NUM_SESSIONS = 30\n",
    "intra_sim_means = []\n",
    "\n",
    "for gap in session_gaps:\n",
    "    sims = []\n",
    "    for _ in range(NUM_SESSIONS):\n",
    "        user, session_df = manager.getRandomUserSession(session_gap=gap, max_prompts=20)()\n",
    "        prompts = session_df['prompt'].tolist()\n",
    "        if len(prompts) < 2:\n",
    "            continue\n",
    "        embeddings = torch.cat([embed_prompt(p) for p in prompts], dim=0)\n",
    "        for i in range(1, len(embeddings)):\n",
    "            sim = float((embeddings[i] @ embeddings[i-1].T).item())\n",
    "            sims.append(sim)\n",
    "    if sims:\n",
    "        intra_sim_means.append(np.mean(sims))\n",
    "    else:\n",
    "        intra_sim_means.append(np.nan)\n",
    "\n",
    "plt.plot(session_gaps, intra_sim_means, marker='o')\n",
    "plt.xlabel(\"Session gap (minuti)\")\n",
    "plt.ylabel(\"Similarità media CLIP intra-sessione\")\n",
    "plt.title(\"Effetto del session gap sulla similarità intra-sessione\")\n",
    "plt.grid(True)\n",
    "plt.show()"
   ]
  },
  {
   "cell_type": "code",
   "execution_count": null,
   "id": "777d9d24",
   "metadata": {},
   "outputs": [],
   "source": []
  }
 ],
 "metadata": {
  "kernelspec": {
   "display_name": ".venv",
   "language": "python",
   "name": "python3"
  },
  "language_info": {
   "codemirror_mode": {
    "name": "ipython",
    "version": 3
   },
   "file_extension": ".py",
   "mimetype": "text/x-python",
   "name": "python",
   "nbconvert_exporter": "python",
   "pygments_lexer": "ipython3",
   "version": "3.13.5"
  }
 },
 "nbformat": 4,
 "nbformat_minor": 5
}
